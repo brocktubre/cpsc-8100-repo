{
 "cells": [
  {
   "cell_type": "markdown",
   "metadata": {},
   "source": [
    "## Introduction\n",
    "\n",
    "Author: Brock Tubre\n",
    "\n",
    "Course: CPCS 8100 Introduction to AI\n",
    "\n",
    "Date: Tuesday, November, 26, 2019\n",
    "\n",
    "\n",
    "During this notebook we will use various methods to create a baseline KMeans clustering on the dataset used in the paper. We will then go through a similar process as described in the paper on sparsifiying the dataset. We will measure the accuracy of each sparseifcaiton using different evaluation metrics similar to those used in the paper. [Here is a link to the paper](http://proceedings.mlr.press/v80/sinha18a/sinha18a.pdf). \n",
    "\n",
    "1. [Getting The Data Used in Paper](#Getting-The-Data-Used-in-Paper)\n",
    "1. [Viewing The Training Data](#Viewing-The-Training-Data)\n",
    "1. [Evaluating Model](#Evaluating-Model)\n",
    "1. [Random Sparsification](#Random-Sparsification)\n",
    "1. [Results](#Results)"
   ]
  },
  {
   "cell_type": "code",
   "execution_count": 1,
   "metadata": {},
   "outputs": [],
   "source": [
    "import boto3\n",
    "import numpy as np\n",
    "import pandas as pd\n",
    "from datetime import datetime"
   ]
  },
  {
   "cell_type": "code",
   "execution_count": 2,
   "metadata": {},
   "outputs": [],
   "source": [
    "import sagemaker\n",
    "from sagemaker import get_execution_role\n",
    "from sagemaker.session import Session\n",
    "\n",
    "role = get_execution_role()\n",
    "bucket = Session().default_bucket()\n",
    "region = boto3.Session().region_name"
   ]
  },
  {
   "cell_type": "markdown",
   "metadata": {},
   "source": [
    "<br>"
   ]
  },
  {
   "cell_type": "markdown",
   "metadata": {},
   "source": [
    "\n",
    "## Getting The Data Used in Paper\n",
    "During this demonstration and work, I plan to only use one of the datasets described in the authors paper. This is for a couple of reasons. Mainly for time and simplicity reasons. \n",
    "\n",
    "The USPS dataset [Hull, 1994](https://ieeexplore.ieee.org/document/291440) contains 9298 handwritten digit images, where each 16 × 16 image is represented by a feature vector of length 256. The author originally seeks to find k = 10 clusters, one for each of the ten digits. Here is where the author and I both got the dataset from. [Link to dataset](https://www.csie.ntu.edu.tw/~cjlin/libsvmtools/datasets/multiclass.html).\n",
    "\n",
    "So an entry in our dataset or matrix looks something like this:\n",
    "2 1:-1.000000 2:-1.000000 3:-1.000000 4:-0.999997 ... 256:-0.649848\n",
    "\n",
    "Where the first number is a category (numbers 0-9) and the remaining values are feature vectors. \n",
    "\n",
    "Since numpy arrays are a bit easier to work with, I converted the LIBSVM format to numpy arrays. "
   ]
  },
  {
   "cell_type": "code",
   "execution_count": 3,
   "metadata": {},
   "outputs": [],
   "source": [
    "boto3.Session().resource('s3', region_name=region).Bucket('cpsc-8100-data-bucket'.format(region)).download_file('usps/usps_train.libsvm', 'usps_train.libsvm')\n",
    "boto3.Session().resource('s3', region_name=region).Bucket('cpsc-8100-data-bucket'.format(region)).download_file('usps/usps_test.libsvm', 'usps_test.libsvm')\n",
    "\n",
    "\n",
    "from sklearn.datasets import load_svmlight_file\n",
    "\n",
    "def get_training_data():\n",
    "    data = load_svmlight_file('./usps_train.libsvm')\n",
    "    return data[0], data[1]\n",
    "\n",
    "X_train, y_train = get_training_data()\n",
    "\n",
    "def get_testing_data():\n",
    "    data = load_svmlight_file('./usps_test.libsvm')\n",
    "    return data[0], data[1]\n",
    "\n",
    "X_test, y_test = get_testing_data()"
   ]
  },
  {
   "cell_type": "code",
   "execution_count": 4,
   "metadata": {},
   "outputs": [],
   "source": [
    "X_train_array = X_train.toarray().astype('float32')\n",
    "X_test_array = X_test.toarray().astype('float32')\n",
    "\n",
    "X_train_array_double = X_train.toarray().astype('double')\n",
    "X_test_array_double = X_test.toarray().astype('double')"
   ]
  },
  {
   "cell_type": "code",
   "execution_count": 5,
   "metadata": {},
   "outputs": [
    {
     "name": "stdout",
     "output_type": "stream",
     "text": [
      "The training dataset has 7291 number of observations.\n",
      "The testing dataset has 2007 number of observations.\n"
     ]
    }
   ],
   "source": [
    "print('The training dataset has {} number of observations.'.format(len(X_train_array_double)))\n",
    "print('The testing dataset has {} number of observations.'.format(len(X_test_array_double)))"
   ]
  },
  {
   "cell_type": "markdown",
   "metadata": {},
   "source": [
    "<br>\n"
   ]
  },
  {
   "cell_type": "markdown",
   "metadata": {},
   "source": [
    "## Viewing The Training Data\n",
    "\n",
    "In the next part, I wanted to take a look at the training data and view some of the entries. Here we can plot one of the feature vectors into a 16 x 16 and also show the cooresponding label associated with the observation."
   ]
  },
  {
   "cell_type": "code",
   "execution_count": 6,
   "metadata": {
    "scrolled": true
   },
   "outputs": [],
   "source": [
    "import matplotlib.pyplot as plt\n",
    "plt.rcParams[\"figure.figsize\"] = (2,10)\n",
    "\n",
    "\n",
    "def show_digit(img, caption='', subplot=None):\n",
    "    if subplot==None:\n",
    "        _,(subplot)=plt.subplots(1,1)\n",
    "    imgr=img.reshape((16,16))\n",
    "    subplot.axis('off')\n",
    "    subplot.imshow(imgr, cmap='gray')\n",
    "    plt.title(caption)"
   ]
  },
  {
   "cell_type": "code",
   "execution_count": 7,
   "metadata": {
    "scrolled": true
   },
   "outputs": [
    {
     "data": {
      "image/png": "[encoded data removed]",
      "text/plain": [
       "<Figure size 432x288 with 1 Axes>"
      ]
     },
     "metadata": {},
     "output_type": "display_data"
    },
    {
     "data": {
      "image/png": "[encoded data removed]",
      "text/plain": [
       "<Figure size 432x288 with 1 Axes>"
      ]
     },
     "metadata": {},
     "output_type": "display_data"
    },
    {
     "data": {
      "image/png": "[encoded data removed]",
      "text/plain": [
       "<Figure size 432x288 with 1 Axes>"
      ]
     },
     "metadata": {},
     "output_type": "display_data"
    }
   ],
   "source": [
    "show_digit(X_train_array[0], 'This is a {}'.format(y_train[0]-1))\n",
    "show_digit(X_train_array[1], 'This is a {}'.format(y_train[1]-1))\n",
    "show_digit(X_train_array[2], 'This is a {}'.format(y_train[2]-1))"
   ]
  },
  {
   "cell_type": "markdown",
   "metadata": {},
   "source": [
    "Let's take a look at the frequency of each category or digit.  The distribution looks pretty good. 0's and 1's have a few more than others, but still looks good. 5 and 6 are the lowest of all the distribution."
   ]
  },
  {
   "cell_type": "code",
   "execution_count": 22,
   "metadata": {},
   "outputs": [
    {
     "name": "stdout",
     "output_type": "stream",
     "text": [
      "Training data has 664 number 6.0's as observations.\n",
      "Training data has 556 number 5.0's as observations.\n",
      "Training data has 652 number 4.0's as observations.\n",
      "Training data has 645 number 7.0's as observations.\n",
      "Training data has 658 number 3.0's as observations.\n",
      "Training data has 1005 number 1.0's as observations.\n",
      "Training data has 1194 number 0.0's as observations.\n",
      "Training data has 542 number 8.0's as observations.\n",
      "Training data has 731 number 2.0's as observations.\n",
      "Training data has 644 number 9.0's as observations.\n"
     ]
    },
    {
     "data": {
      "image/png": "[encoded data removed]",
      "text/plain": [
       "<Figure size 640x480 with 1 Axes>"
      ]
     },
     "metadata": {},
     "output_type": "display_data"
    }
   ],
   "source": [
    "import collections\n",
    "import matplotlib.pyplot as plt\n",
    "from matplotlib.pyplot import figure\n",
    "\n",
    "figure(num=None, figsize=(8, 6), dpi=80, facecolor='w', edgecolor='k')\n",
    "counter = collections.Counter(y_train-1)\n",
    "\n",
    "for i in counter:\n",
    "    print('Training data has {} number {}\\'s as observations.'.format(counter[i], i))\n",
    "    \n",
    "\n",
    "\n",
    "labels, values = zip(*counter.items())\n",
    "\n",
    "indexes = np.arange(len(labels))\n",
    "width = 0.5\n",
    "plt.bar(indexes, values, width)\n",
    "plt.xticks(indexes + width * 0.5, labels)\n",
    "plt.show()"
   ]
  },
  {
   "cell_type": "markdown",
   "metadata": {},
   "source": [
    "## Training The Model\n",
    "Next, we will use the data to train of KMeans algorithm. In the paper the auther uses Lloyd’s heuristic for k-means clustering by applying Matlab’s kmeans function which, by default, uses kmeans++ algorithm [Arthur & Vassilvitskii, 2007](http://ilpubs.stanford.edu:8090/778/1/2006-13.pdf) for cluster center initialization. \n",
    "\n",
    "I will be using the same kmeans++ function but from the [Sci-kit Learn Python library](https://scikit-learn.org/stable/modules/generated/sklearn.cluster.KMeans.html).\n",
    "\n",
    "I will also be using another version of the kmeans++ funtion from [AWS KMeans Algorithm](https://docs.aws.amazon.com/sagemaker/latest/dg/k-means.html). "
   ]
  },
  {
   "cell_type": "code",
   "execution_count": 23,
   "metadata": {},
   "outputs": [],
   "source": [
    "from sklearn.cluster import KMeans\n",
    "kmeans = KMeans(n_clusters=10, random_state=0).fit(X_train_array)"
   ]
  },
  {
   "cell_type": "markdown",
   "metadata": {},
   "source": [
    "After the first model has finsih training we'll take a look at how the testing data is clustered and how they compare to other values in that cluster."
   ]
  },
  {
   "cell_type": "code",
   "execution_count": 24,
   "metadata": {
    "scrolled": false
   },
   "outputs": [
    {
     "name": "stdout",
     "output_type": "stream",
     "text": [
      "Most common value in cluster 0 is 2.0.\n",
      "Most common value in cluster 1 is 3.0.\n",
      "Most common value in cluster 2 is 6.0.\n",
      "Most common value in cluster 3 is 1.0.\n",
      "Most common value in cluster 4 is 0.0.\n",
      "Most common value in cluster 5 is 7.0.\n",
      "Most common value in cluster 6 is 0.0.\n",
      "Most common value in cluster 7 is 8.0.\n",
      "Most common value in cluster 8 is 9.0.\n",
      "Most common value in cluster 9 is 4.0.\n",
      "\n",
      "Cluster 0:\n"
     ]
    },
    {
     "data": {
      "image/png": "[encoded data removed]",
      "text/plain": [
       "<Figure size 1440x216 with 60 Axes>"
      ]
     },
     "metadata": {},
     "output_type": "display_data"
    },
    {
     "name": "stdout",
     "output_type": "stream",
     "text": [
      "\n",
      "Cluster 1:\n"
     ]
    },
    {
     "data": {
      "image/png": "[encoded data removed]",
      "text/plain": [
       "<Figure size 1440x144 with 40 Axes>"
      ]
     },
     "metadata": {},
     "output_type": "display_data"
    },
    {
     "name": "stdout",
     "output_type": "stream",
     "text": [
      "\n",
      "Cluster 2:\n"
     ]
    },
    {
     "data": {
      "image/png": "[encoded data removed]",
      "text/plain": [
       "<Figure size 1440x144 with 40 Axes>"
      ]
     },
     "metadata": {},
     "output_type": "display_data"
    },
    {
     "name": "stdout",
     "output_type": "stream",
     "text": [
      "\n",
      "Cluster 3:\n"
     ]
    },
    {
     "data": {
      "image/png": "[encoded data removed]",
      "text/plain": [
       "<Figure size 1440x216 with 60 Axes>"
      ]
     },
     "metadata": {},
     "output_type": "display_data"
    },
    {
     "name": "stdout",
     "output_type": "stream",
     "text": [
      "\n",
      "Cluster 4:\n"
     ]
    },
    {
     "data": {
      "image/png": "[encoded data removed]",
      "text/plain": [
       "<Figure size 1440x144 with 40 Axes>"
      ]
     },
     "metadata": {},
     "output_type": "display_data"
    },
    {
     "name": "stdout",
     "output_type": "stream",
     "text": [
      "\n",
      "Cluster 5:\n"
     ]
    },
    {
     "data": {
      "image/png": "[encoded data removed]",
      "text/plain": [
       "<Figure size 1440x144 with 40 Axes>"
      ]
     },
     "metadata": {},
     "output_type": "display_data"
    },
    {
     "name": "stdout",
     "output_type": "stream",
     "text": [
      "\n",
      "Cluster 6:\n"
     ]
    },
    {
     "data": {
      "image/png": "[encoded data removed]",
      "text/plain": [
       "<Figure size 1440x288 with 80 Axes>"
      ]
     },
     "metadata": {},
     "output_type": "display_data"
    },
    {
     "name": "stdout",
     "output_type": "stream",
     "text": [
      "\n",
      "Cluster 7:\n"
     ]
    },
    {
     "data": {
      "image/png": "[encoded data removed]",
      "text/plain": [
       "<Figure size 1440x72 with 20 Axes>"
      ]
     },
     "metadata": {},
     "output_type": "display_data"
    },
    {
     "name": "stdout",
     "output_type": "stream",
     "text": [
      "\n",
      "Cluster 8:\n"
     ]
    },
    {
     "data": {
      "image/png": "[encoded data removed]",
      "text/plain": [
       "<Figure size 1440x216 with 60 Axes>"
      ]
     },
     "metadata": {},
     "output_type": "display_data"
    },
    {
     "name": "stdout",
     "output_type": "stream",
     "text": [
      "\n",
      "Cluster 9:\n"
     ]
    },
    {
     "data": {
      "image/png": "[encoded data removed]",
      "text/plain": [
       "<Figure size 1440x144 with 40 Axes>"
      ]
     },
     "metadata": {},
     "output_type": "display_data"
    }
   ],
   "source": [
    "results = kmeans.predict(X_test_array)\n",
    "clusters = results\n",
    "\n",
    "most_common_val_cluster_0 = []\n",
    "most_common_val_cluster_1 = []\n",
    "most_common_val_cluster_2 = []\n",
    "most_common_val_cluster_3 = []\n",
    "most_common_val_cluster_4 = []\n",
    "most_common_val_cluster_5 = []\n",
    "most_common_val_cluster_6 = []\n",
    "most_common_val_cluster_7 = []\n",
    "most_common_val_cluster_8 = []\n",
    "most_common_val_cluster_9 = []\n",
    "\n",
    "def most_common(lst):\n",
    "    return max(set(lst), key=lst.count)\n",
    "\n",
    "for i, r in enumerate(clusters):\n",
    "    if(r == 0):\n",
    "        most_common_val_cluster_0.append(y_test[i]-1)\n",
    "    if(r == 1):\n",
    "        most_common_val_cluster_1.append(y_test[i]-1)\n",
    "    if(r == 2):\n",
    "        most_common_val_cluster_2.append(y_test[i]-1)\n",
    "    if(r == 3):\n",
    "        most_common_val_cluster_3.append(y_test[i]-1)\n",
    "    if(r == 4):\n",
    "        most_common_val_cluster_4.append(y_test[i]-1)\n",
    "    if(r == 5):\n",
    "        most_common_val_cluster_5.append(y_test[i]-1)\n",
    "    if(r == 6):\n",
    "        most_common_val_cluster_6.append(y_test[i]-1)\n",
    "    if(r == 7):\n",
    "        most_common_val_cluster_7.append(y_test[i]-1)\n",
    "    if(r == 8):\n",
    "        most_common_val_cluster_8.append(y_test[i]-1)\n",
    "    if(r == 9):\n",
    "        most_common_val_cluster_9.append(y_test[i]-1)\n",
    "\n",
    "\n",
    "print('Most common value in cluster {} is {}.'.format(0, most_common(most_common_val_cluster_0)))\n",
    "print('Most common value in cluster {} is {}.'.format(1, most_common(most_common_val_cluster_1)))\n",
    "print('Most common value in cluster {} is {}.'.format(2, most_common(most_common_val_cluster_2)))\n",
    "print('Most common value in cluster {} is {}.'.format(3, most_common(most_common_val_cluster_3)))\n",
    "print('Most common value in cluster {} is {}.'.format(4, most_common(most_common_val_cluster_4)))\n",
    "print('Most common value in cluster {} is {}.'.format(5, most_common(most_common_val_cluster_5)))\n",
    "print('Most common value in cluster {} is {}.'.format(6, most_common(most_common_val_cluster_6)))\n",
    "print('Most common value in cluster {} is {}.'.format(7, most_common(most_common_val_cluster_7)))\n",
    "print('Most common value in cluster {} is {}.'.format(8, most_common(most_common_val_cluster_8)))\n",
    "print('Most common value in cluster {} is {}.'.format(9, most_common(most_common_val_cluster_9)))\n",
    "\n",
    "for cluster in range(10):\n",
    "    print('\\nCluster {}:'.format(int(cluster)))\n",
    "    digits = [ img for l, img in zip(clusters, X_test_array[0:100]) if cluster == int(l)]\n",
    "    height=((len(digits)-1)//5)+1\n",
    "    width=20\n",
    "    plt.rcParams[\"figure.figsize\"] = (width,height)\n",
    "    _, subplots = plt.subplots(height, width)\n",
    "    subplots=np.ndarray.flatten(subplots)\n",
    "    for subplot, image in zip(subplots, digits):\n",
    "        show_digit(image, subplot=subplot)\n",
    "    for subplot in subplots[len(digits):]:\n",
    "        subplot.axis('off')\n",
    "\n",
    "    plt.show()"
   ]
  },
  {
   "cell_type": "markdown",
   "metadata": {},
   "source": [
    "It looks like the cluster 2 and cluster 6 both have 0 as the most common value. Lets take a look at the second most common value which is cluster 2 is 5. So we will mark cluster 2 as the predictor for 5."
   ]
  },
  {
   "cell_type": "code",
   "execution_count": 25,
   "metadata": {},
   "outputs": [
    {
     "name": "stdout",
     "output_type": "stream",
     "text": [
      "Counter({6.0: 139, 0.0: 53, 5.0: 30, 2.0: 6, 8.0: 4, 3.0: 4, 4.0: 3})\n"
     ]
    }
   ],
   "source": [
    "import collections\n",
    "counter=collections.Counter(most_common_val_cluster_2)\n",
    "print(counter)"
   ]
  },
  {
   "cell_type": "code",
   "execution_count": 26,
   "metadata": {},
   "outputs": [],
   "source": [
    "mapped_clusters = []\n",
    "\n",
    "for i, r in enumerate(clusters):\n",
    "    if(r == 0):\n",
    "        mapped_clusters.append(6)\n",
    "    if(r == 1):\n",
    "        mapped_clusters.append(1)\n",
    "    if(r == 2):\n",
    "        mapped_clusters.append(5)\n",
    "    if(r == 3):\n",
    "        mapped_clusters.append(8)\n",
    "    if(r == 4):\n",
    "        mapped_clusters.append(9)\n",
    "    if(r == 5):\n",
    "        mapped_clusters.append(3)\n",
    "    if(r == 6):\n",
    "        mapped_clusters.append(0)\n",
    "    if(r == 7):\n",
    "        mapped_clusters.append(7)\n",
    "    if(r == 8):\n",
    "        mapped_clusters.append(2)\n",
    "    if(r == 9):\n",
    "        mapped_clusters.append(6)"
   ]
  },
  {
   "cell_type": "markdown",
   "metadata": {},
   "source": [
    "<br>"
   ]
  },
  {
   "cell_type": "markdown",
   "metadata": {},
   "source": [
    "## Evaluating Model\n",
    "We will use the same methods that the paper uses to evaluate our baseline model. \n",
    "- Firstly, we will use the [completenes score](https://scikit-learn.org/stable/modules/generated/sklearn.metrics.completeness_score.html#sklearn.metrics.completeness_score) which is the completeness metric of a cluster labeling given a ground truth. A clustering result satisfies completeness if all the data points that are members of a given class are elements of the same cluster.\n",
    "- Secondly, we will use the [homogeneity metric](https://scikit-learn.org/stable/modules/generated/sklearn.metrics.homogeneity_score.html#sklearn.metrics.homogeneity_score) of a cluster labeling given a ground truth. A clustering result satisfies homogeneity if all of its clusters contain only data points which are members of a single class.\n",
    "- Thirdly, we will look at the [v-measure score](https://scikit-learn.org/stable/modules/generated/sklearn.metrics.v_measure_score.html#sklearn.metrics.v_measure_score) which is the harmonic mean between homogeneity and completeness.\n",
    "\n",
    "These will be our baseline modles that we will use to compare to after sparsification."
   ]
  },
  {
   "cell_type": "code",
   "execution_count": 27,
   "metadata": {},
   "outputs": [
    {
     "name": "stdout",
     "output_type": "stream",
     "text": [
      "The completness score is 0.4483249457744507.\n",
      "The homoeneity score is 0.4932486144004285.\n",
      "The v-means score is 0.46971509748706913.\n"
     ]
    }
   ],
   "source": [
    "from sklearn.metrics.cluster import completeness_score\n",
    "from sklearn.metrics.cluster import homogeneity_score\n",
    "from sklearn.metrics.cluster import v_measure_score\n",
    "\n",
    "print('The completness score is {}.'.format(completeness_score(mapped_clusters, y_test)))\n",
    "print('The homoeneity score is {}.'.format(homogeneity_score(mapped_clusters, y_test)))\n",
    "print('The v-means score is {}.'.format(v_measure_score(mapped_clusters, y_test)))"
   ]
  },
  {
   "cell_type": "markdown",
   "metadata": {},
   "source": [
    "<br>"
   ]
  },
  {
   "cell_type": "markdown",
   "metadata": {},
   "source": [
    "## Random Sparsification\n",
    "After applying the USPS dataset to the KMeans algorithms and forming a baseline model. The next step the author does is apply random sparsecification to the matrix dataset then evaluates the results. The top portion of the graphic is what we are accomplishing through out the next few steps. We will evaluate the model after each sparsification. "
   ]
  },
  {
   "cell_type": "markdown",
   "metadata": {},
   "source": [
    "<img src=\"./images/sparse.png\">"
   ]
  },
  {
   "cell_type": "code",
   "execution_count": 35,
   "metadata": {},
   "outputs": [],
   "source": [
    "from scipy.sparse import random\n",
    "from scipy import stats\n",
    "\n",
    "class CustomRandomState(np.random.RandomState):\n",
    "    def randint(self, k):\n",
    "        i = np.random.randint(k)\n",
    "        return i - i % 2\n",
    "np.random.seed(12345)\n",
    "rs = CustomRandomState()\n",
    "rvs = stats.poisson(25, loc=10).rvs\n",
    "S = random(len(X_train_array), 256, density=0.90, random_state=rs, data_rvs=rvs)\n",
    "S.A\n",
    "\n",
    "mask = (S.A == 0)"
   ]
  },
  {
   "cell_type": "code",
   "execution_count": 36,
   "metadata": {},
   "outputs": [
    {
     "data": {
      "text/plain": [
       "array([[-1.      , -1.      , -1.      , ..., -1.      , -1.      ,\n",
       "        -0.999994],\n",
       "       [-0.999927, -1.      , -0.900309, ..., -0.32939 , -1.      ,\n",
       "        -0.868793],\n",
       "       [-1.      , -1.      , -1.      , ..., -0.988116, -0.999864,\n",
       "        -1.      ],\n",
       "       ...,\n",
       "       [-1.      , -1.      , -1.      , ..., -1.      , -0.999791,\n",
       "        -0.999998],\n",
       "       [-0.999999, -0.999893, -1.      , ..., -0.942224, -1.      ,\n",
       "        -1.      ],\n",
       "       [-1.      , -1.      , -1.      , ..., -1.      , -1.      ,\n",
       "        -1.      ]], dtype=float32)"
      ]
     },
     "execution_count": 36,
     "metadata": {},
     "output_type": "execute_result"
    }
   ],
   "source": [
    "X_train_sparse = X_train_array\n",
    "X_train_sparse[mask] = mask[mask]\n",
    "np.where(X_train_sparse==1, -1, X_train_sparse)"
   ]
  },
  {
   "cell_type": "markdown",
   "metadata": {},
   "source": [
    "Now that we have a more sparse data matrix, in this case 10% of the values have been removed. Lets give it a go."
   ]
  },
  {
   "cell_type": "code",
   "execution_count": 37,
   "metadata": {},
   "outputs": [],
   "source": [
    "from sklearn.cluster import KMeans\n",
    "kmeans = KMeans(n_clusters=10, random_state=0).fit(X_train_sparse)"
   ]
  },
  {
   "cell_type": "code",
   "execution_count": 38,
   "metadata": {
    "scrolled": false
   },
   "outputs": [
    {
     "name": "stdout",
     "output_type": "stream",
     "text": [
      "Counter({0.0: 147, 2.0: 4, 6.0: 4, 5.0: 2})\n"
     ]
    }
   ],
   "source": [
    "import collections\n",
    "counter=collections.Counter(most_common_val_cluster_6)\n",
    "print(counter)"
   ]
  },
  {
   "cell_type": "code",
   "execution_count": 39,
   "metadata": {},
   "outputs": [],
   "source": [
    "mapped_clusters = []\n",
    "\n",
    "for i, r in enumerate(clusters):\n",
    "    if(r == 0):\n",
    "        mapped_clusters.append(6)\n",
    "    if(r == 1):\n",
    "        mapped_clusters.append(9)\n",
    "    if(r == 2):\n",
    "        mapped_clusters.append(0)\n",
    "    if(r == 3):\n",
    "        mapped_clusters.append(8)\n",
    "    if(r == 4):\n",
    "        mapped_clusters.append(9)\n",
    "    if(r == 5):\n",
    "        mapped_clusters.append(3)\n",
    "    if(r == 6):\n",
    "        mapped_clusters.append(5)\n",
    "    if(r == 7):\n",
    "        mapped_clusters.append(1)\n",
    "    if(r == 8):\n",
    "        mapped_clusters.append(4)\n",
    "    if(r == 9):\n",
    "        mapped_clusters.append(2)"
   ]
  },
  {
   "cell_type": "code",
   "execution_count": 40,
   "metadata": {},
   "outputs": [
    {
     "name": "stdout",
     "output_type": "stream",
     "text": [
      "The completness score is 0.4335570081634823.\n",
      "The homoeneity score is 0.4860798548545039.\n",
      "The homoeneity score is 0.4583185735022819.\n"
     ]
    }
   ],
   "source": [
    "from sklearn.metrics.cluster import completeness_score\n",
    "from sklearn.metrics.cluster import homogeneity_score\n",
    "from sklearn.metrics.cluster import v_measure_score\n",
    "\n",
    "print('The completness score is {}.'.format(completeness_score(mapped_clusters, y_test)))\n",
    "print('The homoeneity score is {}.'.format(homogeneity_score(mapped_clusters, y_test)))\n",
    "print('The homoeneity score is {}.'.format(v_measure_score(mapped_clusters, y_test)))"
   ]
  },
  {
   "cell_type": "markdown",
   "metadata": {},
   "source": [
    "So, we can clearly see that the ratio of correct classifications is going down, just like the paper refernces. If we run this enough times we should see the decay in values as we make our dataset more and more sparse. "
   ]
  },
  {
   "cell_type": "markdown",
   "metadata": {},
   "source": [
    "Now we are going to sparsify the matrix even more. We are making 50% of the values zero entries. "
   ]
  },
  {
   "cell_type": "code",
   "execution_count": 47,
   "metadata": {},
   "outputs": [],
   "source": [
    "from scipy.sparse import random\n",
    "from scipy import stats\n",
    "\n",
    "class CustomRandomState(np.random.RandomState):\n",
    "    def randint(self, k):\n",
    "        i = np.random.randint(k)\n",
    "        return i - i % 2\n",
    "np.random.seed(12345)\n",
    "rs = CustomRandomState()\n",
    "rvs = stats.poisson(25, loc=10).rvs\n",
    "S = random(len(X_train_array), 256, density=0.50, random_state=rs, data_rvs=rvs)\n",
    "S.A\n",
    "\n",
    "mask = (S.A == 0)"
   ]
  },
  {
   "cell_type": "code",
   "execution_count": 48,
   "metadata": {},
   "outputs": [
    {
     "data": {
      "text/plain": [
       "array([[-1.      , -1.      , -1.      , ..., -1.      , -1.      ,\n",
       "        -0.999994],\n",
       "       [-1.      , -1.      , -0.900309, ..., -0.32939 , -1.      ,\n",
       "        -0.868793],\n",
       "       [-1.      , -1.      , -1.      , ..., -1.      , -1.      ,\n",
       "        -1.      ],\n",
       "       ...,\n",
       "       [-1.      , -1.      , -1.      , ..., -1.      , -1.      ,\n",
       "        -0.999998],\n",
       "       [-0.999999, -1.      , -1.      , ..., -1.      , -1.      ,\n",
       "        -1.      ],\n",
       "       [-1.      , -1.      , -1.      , ..., -1.      , -1.      ,\n",
       "        -1.      ]], dtype=float32)"
      ]
     },
     "execution_count": 48,
     "metadata": {},
     "output_type": "execute_result"
    }
   ],
   "source": [
    "X_train_sparse = X_train_array\n",
    "X_train_sparse[mask] = mask[mask]\n",
    "np.where(X_train_sparse==1, -1, X_train_sparse)"
   ]
  },
  {
   "cell_type": "code",
   "execution_count": 49,
   "metadata": {},
   "outputs": [],
   "source": [
    "from sklearn.cluster import KMeans\n",
    "kmeans = KMeans(n_clusters=10, random_state=0).fit(X_train_sparse)"
   ]
  },
  {
   "cell_type": "code",
   "execution_count": 50,
   "metadata": {},
   "outputs": [
    {
     "name": "stdout",
     "output_type": "stream",
     "text": [
      "Counter({0.0: 147, 2.0: 4, 6.0: 4, 5.0: 2})\n"
     ]
    }
   ],
   "source": [
    "import collections\n",
    "counter=collections.Counter(most_common_val_cluster_6)\n",
    "print(counter)"
   ]
  },
  {
   "cell_type": "code",
   "execution_count": 51,
   "metadata": {},
   "outputs": [],
   "source": [
    "mapped_clusters = []\n",
    "\n",
    "for i, r in enumerate(clusters):\n",
    "    if(r == 0):\n",
    "        mapped_clusters.append(6)\n",
    "    if(r == 1):\n",
    "        mapped_clusters.append(9)\n",
    "    if(r == 2):\n",
    "        mapped_clusters.append(0)\n",
    "    if(r == 3):\n",
    "        mapped_clusters.append(8)\n",
    "    if(r == 4):\n",
    "        mapped_clusters.append(9)\n",
    "    if(r == 5):\n",
    "        mapped_clusters.append(3)\n",
    "    if(r == 6):\n",
    "        mapped_clusters.append(5)\n",
    "    if(r == 7):\n",
    "        mapped_clusters.append(1)\n",
    "    if(r == 8):\n",
    "        mapped_clusters.append(4)\n",
    "    if(r == 9):\n",
    "        mapped_clusters.append(2)"
   ]
  },
  {
   "cell_type": "code",
   "execution_count": 52,
   "metadata": {},
   "outputs": [
    {
     "name": "stdout",
     "output_type": "stream",
     "text": [
      "The completness score is 0.4335570081634823.\n",
      "The homoeneity score is 0.4860798548545039.\n",
      "The homoeneity score is 0.4583185735022819.\n"
     ]
    }
   ],
   "source": [
    "from sklearn.metrics.cluster import completeness_score\n",
    "from sklearn.metrics.cluster import homogeneity_score\n",
    "from sklearn.metrics.cluster import v_measure_score\n",
    "\n",
    "print('The completness score is {}.'.format(completeness_score(mapped_clusters, y_test)))\n",
    "print('The homoeneity score is {}.'.format(homogeneity_score(mapped_clusters, y_test)))\n",
    "print('The homoeneity score is {}.'.format(v_measure_score(mapped_clusters, y_test)))"
   ]
  },
  {
   "cell_type": "markdown",
   "metadata": {},
   "source": [
    "So, we can clearly see that the ratio of correct classifications is going down, just like the paper refernces. If we run this enough times we should see the decay in values as we make our dataset more and more sparse. "
   ]
  },
  {
   "cell_type": "markdown",
   "metadata": {},
   "source": [
    "## Results\n",
    "\n",
    "So, we can clearly see that the ratio of correct classifications is going down, just like the paper refernces. Once we continue this prcocess we will see the decrease continue. The author has then shows his results which are displayed below. Basically the q is the fraction of zero entries (or sparsified entries) and hi(q)is the metric function used to evaluate k-means cluster results. What his shows is the effect of random sparsification obtained by uniform and non-uniform sampling on k-means clustering. In all the subplots, red curve indicates uniform sampling and blue curve indicated non-uniform sampling. The black line in the second row indicates normalized mutual information obtained by performing k-means clustering on the original data set. For uniform sampling, p simply indicates that p fraction of entries of the sparsified dataset are non-zero. For non-uniform sampling, the authors uses improved uniform sampling techniques by retaining entries with probability that depends on their magnitude."
   ]
  },
  {
   "cell_type": "markdown",
   "metadata": {},
   "source": [
    "<img src=\"./images/graphs.png\" />"
   ]
  },
  {
   "cell_type": "markdown",
   "metadata": {},
   "source": [
    "## Phase 3\n",
    "In this section, I will demonstrate a new idea which can provide a non-trivial improvement of the original work."
   ]
  },
  {
   "cell_type": "markdown",
   "metadata": {},
   "source": [
    "Next, we will use the data to train of K Nearest Neighbor algorithm. \n",
    "I will use the KNN algorithm provided by the Sci-kit Learn Python library.  This algorithm provides functionality for unsupervised and supervised neighbors-based learning methods. \n",
    "\n",
    "To create a baseline model, I used the same dataset in Section 2 or the USPS dataset. The KNN algorithms specifically uses the NearestCentroid classifier which is similar to the KMeans algorithm but differs by the total nature of KNN which uses a specific neighbor count of k.\n",
    "\n",
    "After creating the baseline model of k=15  the following results were produced. "
   ]
  },
  {
   "cell_type": "markdown",
   "metadata": {},
   "source": [
    "First, lets go ahead and get the data and make sure we are working from clean slate. "
   ]
  },
  {
   "cell_type": "code",
   "execution_count": 130,
   "metadata": {},
   "outputs": [],
   "source": [
    "boto3.Session().resource('s3', region_name=region).Bucket('cpsc-8100-data-bucket'.format(region)).download_file('usps/usps_train.libsvm', 'usps_train.libsvm')\n",
    "boto3.Session().resource('s3', region_name=region).Bucket('cpsc-8100-data-bucket'.format(region)).download_file('usps/usps_test.libsvm', 'usps_test.libsvm')\n",
    "\n",
    "\n",
    "from sklearn.datasets import load_svmlight_file\n",
    "\n",
    "def get_training_data():\n",
    "    data = load_svmlight_file('./usps_train.libsvm')\n",
    "    return data[0], data[1]\n",
    "\n",
    "X_train, y_train = get_training_data()\n",
    "\n",
    "def get_testing_data():\n",
    "    data = load_svmlight_file('./usps_test.libsvm')\n",
    "    return data[0], data[1]\n",
    "\n",
    "X_test, y_test = get_testing_data()"
   ]
  },
  {
   "cell_type": "code",
   "execution_count": 131,
   "metadata": {},
   "outputs": [],
   "source": [
    "X_train_array = X_train.toarray().astype('float32')\n",
    "X_test_array = X_test.toarray().astype('float32')\n",
    "\n",
    "X_train_array_double = X_train.toarray().astype('double')\n",
    "X_test_array_double = X_test.toarray().astype('double')"
   ]
  },
  {
   "cell_type": "markdown",
   "metadata": {},
   "source": [
    "\n",
    "## Training The Model\n",
    "Next, lets go ahead and use the KNN algorithm and trian our baseline model."
   ]
  },
  {
   "cell_type": "code",
   "execution_count": 132,
   "metadata": {},
   "outputs": [],
   "source": [
    "from sklearn.neighbors.nearest_centroid import NearestCentroid\n",
    "import numpy as np\n",
    "\n",
    "clf = NearestCentroid()\n",
    "clf_results = clf.fit(X_train_array, y_train)"
   ]
  },
  {
   "cell_type": "code",
   "execution_count": 133,
   "metadata": {
    "scrolled": false
   },
   "outputs": [
    {
     "name": "stdout",
     "output_type": "stream",
     "text": [
      "Most common value in cluster 0 is None.\n",
      "Most common value in cluster 1 is 0.0.\n",
      "Most common value in cluster 2 is 1.0.\n",
      "Most common value in cluster 3 is 2.0.\n",
      "Most common value in cluster 4 is 3.0.\n",
      "Most common value in cluster 5 is 4.0.\n",
      "Most common value in cluster 6 is 5.0.\n",
      "Most common value in cluster 7 is 6.0.\n",
      "Most common value in cluster 8 is 7.0.\n",
      "Most common value in cluster 9 is 8.0.\n",
      "\n",
      "Cluster 0:\n"
     ]
    },
    {
     "data": {
      "text/plain": [
       "<Figure size 1440x0 with 0 Axes>"
      ]
     },
     "metadata": {},
     "output_type": "display_data"
    },
    {
     "name": "stdout",
     "output_type": "stream",
     "text": [
      "\n",
      "Cluster 1:\n"
     ]
    },
    {
     "data": {
      "image/png": "[encoded data removed]",
      "text/plain": [
       "<Figure size 1440x432 with 120 Axes>"
      ]
     },
     "metadata": {},
     "output_type": "display_data"
    },
    {
     "name": "stdout",
     "output_type": "stream",
     "text": [
      "\n",
      "Cluster 2:\n"
     ]
    },
    {
     "data": {
      "image/png": "[encoded data removed]",
      "text/plain": [
       "<Figure size 1440x144 with 40 Axes>"
      ]
     },
     "metadata": {},
     "output_type": "display_data"
    },
    {
     "name": "stdout",
     "output_type": "stream",
     "text": [
      "\n",
      "Cluster 3:\n"
     ]
    },
    {
     "data": {
      "image/png": "[encoded data removed]",
      "text/plain": [
       "<Figure size 1440x288 with 80 Axes>"
      ]
     },
     "metadata": {},
     "output_type": "display_data"
    },
    {
     "name": "stdout",
     "output_type": "stream",
     "text": [
      "\n",
      "Cluster 4:\n"
     ]
    },
    {
     "data": {
      "image/png": "[encoded data removed]",
      "text/plain": [
       "<Figure size 1440x72 with 20 Axes>"
      ]
     },
     "metadata": {},
     "output_type": "display_data"
    },
    {
     "name": "stdout",
     "output_type": "stream",
     "text": [
      "\n",
      "Cluster 5:\n"
     ]
    },
    {
     "data": {
      "image/png": "[encoded data removed]",
      "text/plain": [
       "<Figure size 1440x72 with 20 Axes>"
      ]
     },
     "metadata": {},
     "output_type": "display_data"
    },
    {
     "name": "stdout",
     "output_type": "stream",
     "text": [
      "\n",
      "Cluster 6:\n"
     ]
    },
    {
     "data": {
      "image/png": "[encoded data removed]",
      "text/plain": [
       "<Figure size 1440x72 with 20 Axes>"
      ]
     },
     "metadata": {},
     "output_type": "display_data"
    },
    {
     "name": "stdout",
     "output_type": "stream",
     "text": [
      "\n",
      "Cluster 7:\n"
     ]
    },
    {
     "data": {
      "image/png": "[encoded data removed]",
      "text/plain": [
       "<Figure size 1440x144 with 40 Axes>"
      ]
     },
     "metadata": {},
     "output_type": "display_data"
    },
    {
     "name": "stdout",
     "output_type": "stream",
     "text": [
      "\n",
      "Cluster 8:\n"
     ]
    },
    {
     "data": {
      "image/png": "[encoded data removed]",
      "text/plain": [
       "<Figure size 1440x144 with 40 Axes>"
      ]
     },
     "metadata": {},
     "output_type": "display_data"
    },
    {
     "name": "stdout",
     "output_type": "stream",
     "text": [
      "\n",
      "Cluster 9:\n"
     ]
    },
    {
     "data": {
      "image/png": "[encoded data removed]",
      "text/plain": [
       "<Figure size 1440x72 with 20 Axes>"
      ]
     },
     "metadata": {},
     "output_type": "display_data"
    }
   ],
   "source": [
    "results = clf.predict(X_test_array)\n",
    "clusters = results\n",
    "\n",
    "most_common_val_cluster_0 = []\n",
    "most_common_val_cluster_1 = []\n",
    "most_common_val_cluster_2 = []\n",
    "most_common_val_cluster_3 = []\n",
    "most_common_val_cluster_4 = []\n",
    "most_common_val_cluster_5 = []\n",
    "most_common_val_cluster_6 = []\n",
    "most_common_val_cluster_7 = []\n",
    "most_common_val_cluster_8 = []\n",
    "most_common_val_cluster_9 = []\n",
    "\n",
    "def most_common(lst):\n",
    "    if len(lst) == 0:\n",
    "        return\n",
    "    return max(set(lst), key=lst.count)\n",
    "\n",
    "for i, r in enumerate(clusters):\n",
    "    if(r == 0):\n",
    "        most_common_val_cluster_0.append(y_test[i]-1)\n",
    "    if(r == 1):\n",
    "        most_common_val_cluster_1.append(y_test[i]-1)\n",
    "    if(r == 2):\n",
    "        most_common_val_cluster_2.append(y_test[i]-1)\n",
    "    if(r == 3):\n",
    "        most_common_val_cluster_3.append(y_test[i]-1)\n",
    "    if(r == 4):\n",
    "        most_common_val_cluster_4.append(y_test[i]-1)\n",
    "    if(r == 5):\n",
    "        most_common_val_cluster_5.append(y_test[i]-1)\n",
    "    if(r == 6):\n",
    "        most_common_val_cluster_6.append(y_test[i]-1)\n",
    "    if(r == 7):\n",
    "        most_common_val_cluster_7.append(y_test[i]-1)\n",
    "    if(r == 8):\n",
    "        most_common_val_cluster_8.append(y_test[i]-1)\n",
    "    if(r == 9):\n",
    "        most_common_val_cluster_9.append(y_test[i]-1)\n",
    "\n",
    "\n",
    "print('Most common value in cluster {} is {}.'.format(0, most_common(most_common_val_cluster_0)))\n",
    "print('Most common value in cluster {} is {}.'.format(1, most_common(most_common_val_cluster_1)))\n",
    "print('Most common value in cluster {} is {}.'.format(2, most_common(most_common_val_cluster_2)))\n",
    "print('Most common value in cluster {} is {}.'.format(3, most_common(most_common_val_cluster_3)))\n",
    "print('Most common value in cluster {} is {}.'.format(4, most_common(most_common_val_cluster_4)))\n",
    "print('Most common value in cluster {} is {}.'.format(5, most_common(most_common_val_cluster_5)))\n",
    "print('Most common value in cluster {} is {}.'.format(6, most_common(most_common_val_cluster_6)))\n",
    "print('Most common value in cluster {} is {}.'.format(7, most_common(most_common_val_cluster_7)))\n",
    "print('Most common value in cluster {} is {}.'.format(8, most_common(most_common_val_cluster_8)))\n",
    "print('Most common value in cluster {} is {}.'.format(9, most_common(most_common_val_cluster_9)))\n",
    "\n",
    "for cluster in range(10):\n",
    "    print('\\nCluster {}:'.format(int(cluster)))\n",
    "    digits = [ img for l, img in zip(clusters, X_test_array[0:100]) if cluster == int(l)]\n",
    "    height=((len(digits)-1)//5)+1\n",
    "    width=20\n",
    "    plt.rcParams[\"figure.figsize\"] = (width,height)\n",
    "    _, subplots = plt.subplots(height, width)\n",
    "    subplots=np.ndarray.flatten(subplots)\n",
    "    for subplot, image in zip(subplots, digits):\n",
    "        show_digit(image, subplot=subplot)\n",
    "    for subplot in subplots[len(digits):]:\n",
    "        subplot.axis('off')\n",
    "\n",
    "    plt.show()"
   ]
  },
  {
   "cell_type": "markdown",
   "metadata": {},
   "source": [
    "After we train our baseline model, lets go ahead and calcualte the evalutaion metrics. "
   ]
  },
  {
   "cell_type": "code",
   "execution_count": 134,
   "metadata": {},
   "outputs": [
    {
     "name": "stdout",
     "output_type": "stream",
     "text": [
      "The completness score is 0.6742864174118304.\n",
      "The homoeneity score is 0.6754041734316772.\n",
      "The v-means score is 0.6748448325828897.\n"
     ]
    }
   ],
   "source": [
    "from sklearn.metrics.cluster import completeness_score\n",
    "from sklearn.metrics.cluster import homogeneity_score\n",
    "from sklearn.metrics.cluster import v_measure_score\n",
    "\n",
    "print('The completness score is {}.'.format(completeness_score(clusters, y_test)))\n",
    "print('The homoeneity score is {}.'.format(homogeneity_score(clusters, y_test)))\n",
    "print('The v-means score is {}.'.format(v_measure_score(clusters, y_test)))"
   ]
  },
  {
   "cell_type": "markdown",
   "metadata": {},
   "source": [
    "These results are already showing to be a better baseline model when using the KMean algorithm in Section 2. "
   ]
  },
  {
   "cell_type": "markdown",
   "metadata": {},
   "source": [
    "## Random Sparsification (KNN)\n",
    "In the next part we will go ahead and apply the sparsification starting with 10% and retrian the model. "
   ]
  },
  {
   "cell_type": "code",
   "execution_count": 135,
   "metadata": {},
   "outputs": [],
   "source": [
    "X_train_array = X_train.toarray().astype('float32')\n",
    "X_test_array = X_test.toarray().astype('float32')\n",
    "\n",
    "X_train_array_double = X_train.toarray().astype('double')\n",
    "X_test_array_double = X_test.toarray().astype('double')"
   ]
  },
  {
   "cell_type": "code",
   "execution_count": 136,
   "metadata": {},
   "outputs": [],
   "source": [
    "from scipy.sparse import random\n",
    "from scipy import stats\n",
    "\n",
    "class CustomRandomState(np.random.RandomState):\n",
    "    def randint(self, k):\n",
    "        i = np.random.randint(k)\n",
    "        return i - i % 2\n",
    "np.random.seed(12345)\n",
    "rs = CustomRandomState()\n",
    "rvs = stats.poisson(25, loc=10).rvs\n",
    "S = random(len(X_train_array), 256, density=0.90, random_state=rs, data_rvs=rvs)\n",
    "S.A\n",
    "\n",
    "mask = (S.A == 0)"
   ]
  },
  {
   "cell_type": "code",
   "execution_count": 137,
   "metadata": {},
   "outputs": [
    {
     "data": {
      "text/plain": [
       "array([[-1.      , -1.      , -1.      , ..., -0.988672, -0.999475,\n",
       "        -0.999994],\n",
       "       [-0.999927, -0.993644, -0.900309, ..., -0.32939 , -0.584681,\n",
       "        -0.868793],\n",
       "       [-1.      , -1.      , -1.      , ..., -0.988116, -0.999864,\n",
       "        -1.      ],\n",
       "       ...,\n",
       "       [-0.998491, -0.971247, -0.824413, ..., -0.99315 , -0.999791,\n",
       "        -0.999998],\n",
       "       [-0.999999, -0.999893, -0.995429, ..., -0.942224, -0.985542,\n",
       "        -0.996327],\n",
       "       [-1.      , -1.      , -0.999874, ..., -1.      , -1.      ,\n",
       "        -1.      ]], dtype=float32)"
      ]
     },
     "execution_count": 137,
     "metadata": {},
     "output_type": "execute_result"
    }
   ],
   "source": [
    "X_train_sparse = X_train_array\n",
    "X_train_sparse[mask] = mask[mask]\n",
    "np.where(X_train_sparse==1, -1, X_train_sparse)"
   ]
  },
  {
   "cell_type": "markdown",
   "metadata": {},
   "source": [
    "Next, we will go ahead and train the new model with 10% random sparsificaiton."
   ]
  },
  {
   "cell_type": "code",
   "execution_count": 138,
   "metadata": {},
   "outputs": [],
   "source": [
    "from sklearn.neighbors.nearest_centroid import NearestCentroid\n",
    "import numpy as np\n",
    "\n",
    "clf = NearestCentroid()\n",
    "clf_results = clf.fit(X_train_array, y_train)"
   ]
  },
  {
   "cell_type": "code",
   "execution_count": 139,
   "metadata": {},
   "outputs": [],
   "source": [
    "results = clf.predict(X_test_array)\n",
    "clusters = results\n",
    "\n",
    "most_common_val_cluster_0 = []\n",
    "most_common_val_cluster_1 = []\n",
    "most_common_val_cluster_2 = []\n",
    "most_common_val_cluster_3 = []\n",
    "most_common_val_cluster_4 = []\n",
    "most_common_val_cluster_5 = []\n",
    "most_common_val_cluster_6 = []\n",
    "most_common_val_cluster_7 = []\n",
    "most_common_val_cluster_8 = []\n",
    "most_common_val_cluster_9 = []\n",
    "\n",
    "def most_common(lst):\n",
    "    if len(lst) == 0:\n",
    "        return\n",
    "    return max(set(lst), key=lst.count)\n",
    "\n",
    "for i, r in enumerate(clusters):\n",
    "    if(r == 0):\n",
    "        most_common_val_cluster_0.append(y_test[i]-1)\n",
    "    if(r == 1):\n",
    "        most_common_val_cluster_1.append(y_test[i]-1)\n",
    "    if(r == 2):\n",
    "        most_common_val_cluster_2.append(y_test[i]-1)\n",
    "    if(r == 3):\n",
    "        most_common_val_cluster_3.append(y_test[i]-1)\n",
    "    if(r == 4):\n",
    "        most_common_val_cluster_4.append(y_test[i]-1)\n",
    "    if(r == 5):\n",
    "        most_common_val_cluster_5.append(y_test[i]-1)\n",
    "    if(r == 6):\n",
    "        most_common_val_cluster_6.append(y_test[i]-1)\n",
    "    if(r == 7):\n",
    "        most_common_val_cluster_7.append(y_test[i]-1)\n",
    "    if(r == 8):\n",
    "        most_common_val_cluster_8.append(y_test[i]-1)\n",
    "    if(r == 9):\n",
    "        most_common_val_cluster_9.append(y_test[i]-1)"
   ]
  },
  {
   "cell_type": "code",
   "execution_count": 140,
   "metadata": {
    "scrolled": true
   },
   "outputs": [
    {
     "name": "stdout",
     "output_type": "stream",
     "text": [
      "The completness score is 0.622739152516204.\n",
      "The homoeneity score is 0.6290117831249924.\n",
      "The v-means score is 0.625859751477341.\n"
     ]
    }
   ],
   "source": [
    "from sklearn.metrics.cluster import completeness_score\n",
    "from sklearn.metrics.cluster import homogeneity_score\n",
    "from sklearn.metrics.cluster import v_measure_score\n",
    "\n",
    "print('The completness score is {}.'.format(completeness_score(clusters, y_test)))\n",
    "print('The homoeneity score is {}.'.format(homogeneity_score(clusters, y_test)))\n",
    "print('The v-means score is {}.'.format(v_measure_score(clusters, y_test)))"
   ]
  },
  {
   "cell_type": "markdown",
   "metadata": {},
   "source": [
    "Next, we will show the results for a 50% sparsification.  We will apply the same KNN algorithm. "
   ]
  },
  {
   "cell_type": "code",
   "execution_count": 141,
   "metadata": {},
   "outputs": [],
   "source": [
    "X_train_array = X_train.toarray().astype('float32')\n",
    "X_test_array = X_test.toarray().astype('float32')\n",
    "\n",
    "X_train_array_double = X_train.toarray().astype('double')\n",
    "X_test_array_double = X_test.toarray().astype('double')"
   ]
  },
  {
   "cell_type": "code",
   "execution_count": 142,
   "metadata": {},
   "outputs": [],
   "source": [
    "from scipy.sparse import random\n",
    "from scipy import stats\n",
    "\n",
    "class CustomRandomState(np.random.RandomState):\n",
    "    def randint(self, k):\n",
    "        i = np.random.randint(k)\n",
    "        return i - i % 2\n",
    "np.random.seed(12345)\n",
    "rs = CustomRandomState()\n",
    "rvs = stats.poisson(25, loc=10).rvs\n",
    "S = random(len(X_train_array), 256, density=0.50, random_state=rs, data_rvs=rvs)\n",
    "S.A\n",
    "\n",
    "mask = (S.A == 0)"
   ]
  },
  {
   "cell_type": "code",
   "execution_count": 143,
   "metadata": {},
   "outputs": [],
   "source": [
    "X_train_sparse = X_train_array\n",
    "X_train_sparse[mask] = mask[mask]\n",
    "np.where(X_train_sparse==1, -1, X_train_sparse)\n",
    "\n",
    "from sklearn.neighbors.nearest_centroid import NearestCentroid\n",
    "import numpy as np\n",
    "\n",
    "clf = NearestCentroid()\n",
    "clf_results = clf.fit(X_train_sparse, y_train)"
   ]
  },
  {
   "cell_type": "code",
   "execution_count": 144,
   "metadata": {},
   "outputs": [],
   "source": [
    "results = clf.predict(X_test_array)\n",
    "clusters = results\n",
    "\n",
    "most_common_val_cluster_0 = []\n",
    "most_common_val_cluster_1 = []\n",
    "most_common_val_cluster_2 = []\n",
    "most_common_val_cluster_3 = []\n",
    "most_common_val_cluster_4 = []\n",
    "most_common_val_cluster_5 = []\n",
    "most_common_val_cluster_6 = []\n",
    "most_common_val_cluster_7 = []\n",
    "most_common_val_cluster_8 = []\n",
    "most_common_val_cluster_9 = []\n",
    "\n",
    "def most_common(lst):\n",
    "    if len(lst) == 0:\n",
    "        return\n",
    "    return max(set(lst), key=lst.count)\n",
    "\n",
    "for i, r in enumerate(clusters):\n",
    "    if(r == 0):\n",
    "        most_common_val_cluster_0.append(y_test[i]-1)\n",
    "    if(r == 1):\n",
    "        most_common_val_cluster_1.append(y_test[i]-1)\n",
    "    if(r == 2):\n",
    "        most_common_val_cluster_2.append(y_test[i]-1)\n",
    "    if(r == 3):\n",
    "        most_common_val_cluster_3.append(y_test[i]-1)\n",
    "    if(r == 4):\n",
    "        most_common_val_cluster_4.append(y_test[i]-1)\n",
    "    if(r == 5):\n",
    "        most_common_val_cluster_5.append(y_test[i]-1)\n",
    "    if(r == 6):\n",
    "        most_common_val_cluster_6.append(y_test[i]-1)\n",
    "    if(r == 7):\n",
    "        most_common_val_cluster_7.append(y_test[i]-1)\n",
    "    if(r == 8):\n",
    "        most_common_val_cluster_8.append(y_test[i]-1)\n",
    "    if(r == 9):\n",
    "        most_common_val_cluster_9.append(y_test[i]-1)"
   ]
  },
  {
   "cell_type": "code",
   "execution_count": 145,
   "metadata": {},
   "outputs": [
    {
     "name": "stdout",
     "output_type": "stream",
     "text": [
      "The completness score is 0.25310543915092015.\n",
      "The homoeneity score is 0.4039828342688125.\n",
      "The v-means score is 0.31122227199366287.\n"
     ]
    }
   ],
   "source": [
    "from sklearn.metrics.cluster import completeness_score\n",
    "from sklearn.metrics.cluster import homogeneity_score\n",
    "from sklearn.metrics.cluster import v_measure_score\n",
    "\n",
    "print('The completness score is {}.'.format(completeness_score(clusters, y_test)))\n",
    "print('The homoeneity score is {}.'.format(homogeneity_score(clusters, y_test)))\n",
    "print('The v-means score is {}.'.format(v_measure_score(clusters, y_test)))"
   ]
  },
  {
   "cell_type": "markdown",
   "metadata": {},
   "source": [
    "These results show the significant drop when a 50% sparsification is applied. Although the homogeneity score is similar to the results shown using the KMeans algorithms the other results, completeness score and v-means score are much lower. "
   ]
  },
  {
   "cell_type": "markdown",
   "metadata": {},
   "source": [
    "## Comparing KMeans to KNN\n",
    "In the next section, I plan to determine an overall understanding of how sparsification effects the evalution of these algorithms."
   ]
  },
  {
   "cell_type": "markdown",
   "metadata": {},
   "source": [
    "First, we will start with the authors approach using KMeans.\n"
   ]
  },
  {
   "cell_type": "code",
   "execution_count": 169,
   "metadata": {
    "scrolled": false
   },
   "outputs": [
    {
     "name": "stdout",
     "output_type": "stream",
     "text": [
      "The completness score is 0.03138103243104746.\n",
      "The homoeneity score is 0.3620696391077556.\n",
      "The homoeneity score is 0.057756257183145095.\n"
     ]
    }
   ],
   "source": [
    "X_train_array = X_train.toarray().astype('float32')\n",
    "X_test_array = X_test.toarray().astype('float32')\n",
    "\n",
    "X_train_array_double = X_train.toarray().astype('double')\n",
    "X_test_array_double = X_test.toarray().astype('double')\n",
    "\n",
    "from scipy.sparse import random\n",
    "from scipy import stats\n",
    "\n",
    "class CustomRandomState(np.random.RandomState):\n",
    "    def randint(self, k):\n",
    "        i = np.random.randint(k)\n",
    "        return i - i % 2\n",
    "np.random.seed(12345)\n",
    "rs = CustomRandomState()\n",
    "rvs = stats.poisson(25, loc=10).rvs\n",
    "S = random(len(X_train_array), 256, density=0.10, random_state=rs, data_rvs=rvs)\n",
    "S.A\n",
    "\n",
    "mask = (S.A == 0)\n",
    "\n",
    "X_train_sparse = X_train_array\n",
    "X_train_sparse[mask] = mask[mask]\n",
    "np.where(X_train_sparse==1, -1, X_train_sparse)\n",
    "\n",
    "from sklearn.cluster import KMeans\n",
    "kmeans = KMeans(n_clusters=10, random_state=0).fit(X_train_sparse)\n",
    "\n",
    "results = kmeans.predict(X_test_array)\n",
    "clusters = results\n",
    "\n",
    "from sklearn.metrics.cluster import completeness_score\n",
    "from sklearn.metrics.cluster import homogeneity_score\n",
    "from sklearn.metrics.cluster import v_measure_score\n",
    "\n",
    "print('The completness score is {}.'.format(completeness_score(clusters, y_test)))\n",
    "print('The homoeneity score is {}.'.format(homogeneity_score(clusters, y_test)))\n",
    "print('The homoeneity score is {}.'.format(v_measure_score(clusters, y_test)))"
   ]
  },
  {
   "cell_type": "markdown",
   "metadata": {},
   "source": [
    "Next, lets go ahead an calculate the evalutions metrics for the KNN alrogirthm for graphing purposes. "
   ]
  },
  {
   "cell_type": "code",
   "execution_count": 170,
   "metadata": {},
   "outputs": [
    {
     "name": "stdout",
     "output_type": "stream",
     "text": [
      "The completness score is 0.03400331517685081.\n",
      "The homoeneity score is 0.31410712315615136.\n",
      "The homoeneity score is 0.06136376466686342.\n"
     ]
    }
   ],
   "source": [
    "\n",
    "X_train_array = X_train.toarray().astype('float32')\n",
    "X_test_array = X_test.toarray().astype('float32')\n",
    "\n",
    "X_train_array_double = X_train.toarray().astype('double')\n",
    "X_test_array_double = X_test.toarray().astype('double')\n",
    "\n",
    "from scipy.sparse import random\n",
    "from scipy import stats\n",
    "\n",
    "class CustomRandomState(np.random.RandomState):\n",
    "    def randint(self, k):\n",
    "        i = np.random.randint(k)\n",
    "        return i - i % 2\n",
    "np.random.seed(12345)\n",
    "rs = CustomRandomState()\n",
    "rvs = stats.poisson(25, loc=10).rvs\n",
    "S = random(len(X_train_array), 256, density=0.1, random_state=rs, data_rvs=rvs)\n",
    "S.A\n",
    "\n",
    "mask = (S.A == 0)\n",
    "\n",
    "X_train_sparse = X_train_array\n",
    "X_train_sparse[mask] = mask[mask]\n",
    "np.where(X_train_sparse==1, -1, X_train_sparse)\n",
    "\n",
    "from sklearn.neighbors.nearest_centroid import NearestCentroid\n",
    "import numpy as np\n",
    "\n",
    "clf = NearestCentroid()\n",
    "clf_results = clf.fit(X_train_sparse, y_train)\n",
    "\n",
    "results = clf.predict(X_test_array)\n",
    "clusters = results\n",
    "\n",
    "from sklearn.metrics.cluster import completeness_score\n",
    "from sklearn.metrics.cluster import homogeneity_score\n",
    "from sklearn.metrics.cluster import v_measure_score\n",
    "\n",
    "print('The completness score is {}.'.format(completeness_score(clusters, y_test)))\n",
    "print('The homoeneity score is {}.'.format(homogeneity_score(clusters, y_test)))\n",
    "print('The homoeneity score is {}.'.format(v_measure_score(clusters, y_test)))"
   ]
  }
 ],
 "metadata": {
  "kernelspec": {
   "display_name": "conda_python3",
   "language": "python",
   "name": "conda_python3"
  },
  "language_info": {
   "codemirror_mode": {
    "name": "ipython",
    "version": 3
   },
   "file_extension": ".py",
   "mimetype": "text/x-python",
   "name": "python",
   "nbconvert_exporter": "python",
   "pygments_lexer": "ipython3",
   "version": "3.6.5"
  }
 },
 "nbformat": 4,
 "nbformat_minor": 2
}
